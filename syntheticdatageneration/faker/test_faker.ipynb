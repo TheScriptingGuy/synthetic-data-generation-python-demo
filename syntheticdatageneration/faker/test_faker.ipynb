{
 "cells": [
  {
   "attachments": {},
   "cell_type": "markdown",
   "metadata": {},
   "source": [
    "### Import packages"
   ]
  },
  {
   "cell_type": "code",
   "execution_count": 2,
   "metadata": {},
   "outputs": [],
   "source": [
    "import pandas as pd\n",
    "from faker import Faker\n",
    "from faker.providers import DynamicProvider\n",
    "import matplotlib.pyplot as plt\n",
    "import seaborn as sns\n",
    "import numpy as np"
   ]
  },
  {
   "attachments": {},
   "cell_type": "markdown",
   "metadata": {},
   "source": [
    "### Define helper functions"
   ]
  },
  {
   "cell_type": "code",
   "execution_count": 3,
   "metadata": {},
   "outputs": [],
   "source": [
    "def add_provider(fake, name, elements):\n",
    "    prov = DynamicProvider(\n",
    "        provider_name=name,\n",
    "        elements=elements,\n",
    "    )\n",
    "    #then add new provider to faker instance\n",
    "    fake.add_provider(prov)\n",
    "\n",
    "def df_to_fake_dict(df, fake, sample): \n",
    "    func_list=[]\n",
    "    for col in df.columns:\n",
    "        #escape forbidden characters from column name\n",
    "        _col = str.replace(col, '.','_')\n",
    "        #take sample of the unique values of the column\n",
    "        _values = df[col].unique()[:sample].tolist()\n",
    "        add_provider(fake, _col, _values)\n",
    "        func_list.append(eval('fake.'+_col))\n",
    "    #create list of column names\n",
    "    col_list = df.columns.to_list()\n",
    "    #zip column names and functions into dictionary\n",
    "    fake_dict = dict(zip(col_list, func_list))\n",
    "    return fake_dict\n",
    "\n",
    "def gen_df_dict (args, num):\n",
    "    df=pd.DataFrame()\n",
    "    for key in args:\n",
    "        func = args[key]\n",
    "        df[key]=pd.Series((func() for _ in range(num)))\n",
    "    return df"
   ]
  },
  {
   "attachments": {},
   "cell_type": "markdown",
   "metadata": {},
   "source": [
    "### Create Fake objects"
   ]
  },
  {
   "cell_type": "code",
   "execution_count": 5,
   "metadata": {},
   "outputs": [],
   "source": [
    "#instantiate Faker\n",
    "fake = Faker()\n",
    "\n",
    "#read csv into dataframe\n",
    "df_business = pd.read_csv('../../data/datafiles/yelp_academic_dataset_business_transformed_filtered.csv')\n",
    "df_review = pd.read_csv('../../data/datafiles/yelp_academic_dataset_review_transformed_filtered.csv')\n",
    "df_user = pd.read_csv('../../data/datafiles/yelp_academic_dataset_user_transformed_filtered.csv')\n",
    "\n",
    "#generate dictionary based on structure of dataframe\n",
    "#each column will be assigned to a fake function\n",
    "fake_dict_business = df_to_fake_dict(df_business, fake, 10)\n",
    "fake_dict_review = df_to_fake_dict(df_review, fake, 10)\n",
    "fake_dict_user = df_to_fake_dict(df_user, fake.unique, 10)"
   ]
  },
  {
   "attachments": {},
   "cell_type": "markdown",
   "metadata": {},
   "source": [
    "### Generate Fake Data"
   ]
  },
  {
   "cell_type": "code",
   "execution_count": 6,
   "metadata": {},
   "outputs": [
    {
     "name": "stdout",
     "output_type": "stream",
     "text": [
      "              business_id                      name            city  stars  \\\n",
      "0  mWMc6_wTdE0EUBKIGXDVfA            Sonic Drive-In    Ashland City    1.0   \n",
      "1  n_0UpQx1hsNbnPUSlodU8w  Abby Rappoport, LAC, CMQ          Affton    4.5   \n",
      "2  bBDDEgkFA1Otx9Lfe7BZUQ  Perkiomen Valley Brewery   Land O' Lakes    1.5   \n",
      "3  tUFrWirKiKi_TAnsVWINQQ            Temple Beth-El      Green Lane    1.5   \n",
      "4  MTSW4McQd7CbVtyjqoe9mw        St Honore Pastries    Ashland City    2.0   \n",
      "5  MTSW4McQd7CbVtyjqoe9mw                 Marshalls  St. Petersburg    4.5   \n",
      "6  k0hlBqXX-Bt0vf1op7Jr1w  Abby Rappoport, LAC, CMQ          Affton    1.5   \n",
      "7  tUFrWirKiKi_TAnsVWINQQ     Tsevi's Pub And Grill       Brentwood    5.0   \n",
      "8  qkRM_2X51Yqxk3btlwAQIg                    Target       Nashville    1.0   \n",
      "9  qkRM_2X51Yqxk3btlwAQIg            Temple Beth-El          Tucson    2.0   \n",
      "\n",
      "   review_count  is_open       categories0   categories1  \\\n",
      "0            28        0           Doctors   Restaurants   \n",
      "1            22        0           Doctors     Fast Food   \n",
      "2            80        1        Synagogues     Breweries   \n",
      "3            10        1    Sporting Goods     Fast Food   \n",
      "4             6        0              Pubs     Fast Food   \n",
      "5            28        1           Doctors     Fast Food   \n",
      "6             7        1  Shipping Centers       Fashion   \n",
      "7             7        1       Restaurants      Shopping   \n",
      "8            80        1           Doctors      Dentists   \n",
      "9            10        1    Sporting Goods     Fast Food   \n",
      "\n",
      "              categories2     categories3                 categories4  \n",
      "0                Notaries     Food Trucks                 Restaurants  \n",
      "1                Notaries   Home & Garden                 Electronics  \n",
      "2   Naturopathic/Holistic        Shopping   Ice Cream & Frozen Yogurt  \n",
      "3   Naturopathic/Holistic            Food      American (Traditional)  \n",
      "4             Shoe Stores    Coffee & Tea                 Restaurants  \n",
      "5   Naturopathic/Holistic             NaN                 Electronics  \n",
      "6              Bubble Tea     Food Trucks                        Food  \n",
      "7             Shoe Stores     Acupuncture                 Restaurants  \n",
      "8              Sandwiches    Coffee & Tea            Health & Medical  \n",
      "9                Notaries     Acupuncture                        Food  \n",
      "                review_id                 user_id             business_id  \\\n",
      "0  _ZeMknuYdlQcUqng_Im3yg  yfFzsLmaWF2d4Sr0UNbBgg  YjUWPpI6HXG530lwP-fb2A   \n",
      "1  ZKvDG2sBvHVdF5oBNUOpAQ  bcjbaE6dDog4jkNY91ncLQ  XQfwVwDr-v0ZS3_CbbE5Xw   \n",
      "2  JrIxlS1TzJ-iCu79ul40cQ  eUta8W_HdHMXPzLBBZhL1A  kxX2SOes4o-D3ZQBkiMRfA   \n",
      "3  6AxgBCNX_PNTOxmbRSwcKQ  OyoGAe7OKpv6SyGZT5g77Q  B5XSoSG3SfvQGtKEGQ1tSQ   \n",
      "4  pUycOfUwM8vqX7KjRRhUEA  yfFzsLmaWF2d4Sr0UNbBgg  LHSTtnW3YHCeUkRDGyJOyw   \n",
      "5  AqPFMleE6RsU23_auESxiA  59MxRhNVhU9MYndMkz0wtw  LHSTtnW3YHCeUkRDGyJOyw   \n",
      "6  JrIxlS1TzJ-iCu79ul40cQ  r3zeYsv1XFBRA4dJpL78cw  gmjsEdUsKpj9Xxu6pdjH0g   \n",
      "7  JrIxlS1TzJ-iCu79ul40cQ  OyoGAe7OKpv6SyGZT5g77Q  7ATYjTIgM3jUlt4UM3IypQ   \n",
      "8  _ZeMknuYdlQcUqng_Im3yg  eUta8W_HdHMXPzLBBZhL1A  LHSTtnW3YHCeUkRDGyJOyw   \n",
      "9  Sx8TMOWLNuJBWer-0pcmoA  r3zeYsv1XFBRA4dJpL78cw  YjUWPpI6HXG530lwP-fb2A   \n",
      "\n",
      "   stars  useful  funny  cool           date  \n",
      "0      5      15      6     2  1438914556000  \n",
      "1      1       1      1     9  1420329663000  \n",
      "2      2       4      9     5  1484427255000  \n",
      "3      1      15      9     8  1391632230000  \n",
      "4      3       7      4     7  1459377993000  \n",
      "5      3       1      6     1  1391632230000  \n",
      "6      2       1      6     4  1469431866000  \n",
      "7      5       7      0     9  1531001351000  \n",
      "8      1       1      3     1  1420329663000  \n",
      "9      1       7      6     7  1443049831000  \n",
      "                  user_id     name  review_count        yelping_since\n",
      "0  j14WgRoU_-2ZE1aw1dXrJg  Ronskee           133  2010-01-07 18:32:04\n",
      "1  VcLRGCG_VbAo8MxOm76jzA     John           348  2008-12-11 22:11:56\n"
     ]
    }
   ],
   "source": [
    "#generate a new dataframe with structure of source file\n",
    "fake_df_business = gen_df_dict(fake_dict_business, 10)\n",
    "fake_df_review = gen_df_dict(fake_dict_review, 10)\n",
    "fake_df_user = gen_df_dict(fake_dict_user, 2)\n",
    "\n",
    "#print generated fake data\n",
    "print (fake_df_business)\n",
    "print (fake_df_review)\n",
    "print (fake_df_user)"
   ]
  }
 ],
 "metadata": {
  "kernelspec": {
   "display_name": "Python 3",
   "language": "python",
   "name": "python3"
  },
  "language_info": {
   "codemirror_mode": {
    "name": "ipython",
    "version": 3
   },
   "file_extension": ".py",
   "mimetype": "text/x-python",
   "name": "python",
   "nbconvert_exporter": "python",
   "pygments_lexer": "ipython3",
   "version": "3.8.16"
  },
  "orig_nbformat": 4,
  "vscode": {
   "interpreter": {
    "hash": "949777d72b0d2535278d3dc13498b2535136f6dfe0678499012e853ee9abcab1"
   }
  }
 },
 "nbformat": 4,
 "nbformat_minor": 2
}
