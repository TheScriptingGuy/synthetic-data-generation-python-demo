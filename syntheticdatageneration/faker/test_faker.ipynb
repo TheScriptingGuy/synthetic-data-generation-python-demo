{
 "cells": [
  {
   "attachments": {},
   "cell_type": "markdown",
   "metadata": {},
   "source": [
    "### Import packages"
   ]
  },
  {
   "cell_type": "code",
   "execution_count": 2,
   "metadata": {},
   "outputs": [],
   "source": [
    "import pandas as pd\n",
    "from faker import Faker\n",
    "from faker.providers import DynamicProvider\n",
    "import matplotlib.pyplot as plt\n",
    "import seaborn as sns\n",
    "import numpy as np"
   ]
  },
  {
   "attachments": {},
   "cell_type": "markdown",
   "metadata": {},
   "source": [
    "### Define helper functions"
   ]
  },
  {
   "cell_type": "code",
   "execution_count": 3,
   "metadata": {},
   "outputs": [],
   "source": [
    "def add_provider(fake, name, elements):\n",
    "    prov = DynamicProvider(\n",
    "        provider_name=name,\n",
    "        elements=elements,\n",
    "    )\n",
    "    #then add new provider to faker instance\n",
    "    fake.add_provider(prov)\n",
    "\n",
    "def df_to_fake_dict(df, fake, sample): \n",
    "    func_list=[]\n",
    "    for col in df.columns:\n",
    "        #escape forbidden characters from column name\n",
    "        _col = str.replace(col, '.','_')\n",
    "        #take sample of the unique values of the column\n",
    "        _values = df[col].unique()[:sample].tolist()\n",
    "        add_provider(fake, _col, _values)\n",
    "        func_list.append(eval('fake.'+_col))\n",
    "    #create list of column names\n",
    "    col_list = df.columns.to_list()\n",
    "    #zip column names and functions into dictionary\n",
    "    fake_dict = dict(zip(col_list, func_list))\n",
    "    return fake_dict\n",
    "\n",
    "def gen_df_dict (args, num):\n",
    "    df=pd.DataFrame()\n",
    "    for key in args:\n",
    "        func = args[key]\n",
    "        df[key]=pd.Series((func() for _ in range(num)))\n",
    "    return df"
   ]
  },
  {
   "attachments": {},
   "cell_type": "markdown",
   "metadata": {},
   "source": [
    "### Create Fake objects"
   ]
  },
  {
   "cell_type": "code",
   "execution_count": 4,
   "metadata": {},
   "outputs": [],
   "source": [
    "#instantiate Faker\n",
    "fake = Faker()\n",
    "\n",
    "#read csv into dataframe\n",
    "df_business = pd.read_csv('../../data/datafiles/yelp_academic_dataset_business_transformed_filtered.csv')\n",
    "df_review = pd.read_csv('../../data/datafiles/yelp_academic_dataset_review_transformed_filtered.csv')\n",
    "df_user = pd.read_csv('../../data/datafiles/yelp_academic_dataset_user_transformed_filtered.csv')\n",
    "\n",
    "#generate dictionary based on structure of dataframe\n",
    "#each column will be assigned to a fake function\n",
    "fake_dict_business = df_to_fake_dict(df_business, fake, 10)\n",
    "fake_dict_review = df_to_fake_dict(df_review, fake, 10)\n",
    "fake_dict_user = df_to_fake_dict(df_user, fake.unique, 10)"
   ]
  },
  {
   "attachments": {},
   "cell_type": "markdown",
   "metadata": {},
   "source": [
    "### Generate Fake Data"
   ]
  },
  {
   "cell_type": "code",
   "execution_count": 6,
   "metadata": {},
   "outputs": [
    {
     "name": "stdout",
     "output_type": "stream",
     "text": [
      "              business_id                      name            city  stars  \\\n",
      "0  qkRM_2X51Yqxk3btlwAQIg  Perkiomen Valley Brewery       Nashville    3.0   \n",
      "1  qkRM_2X51Yqxk3btlwAQIg        St Honore Pastries  St. Petersburg    2.0   \n",
      "2  CF33F8-E6oudUQ46HnavjQ                    Target  St. Petersburg    4.0   \n",
      "3  qkRM_2X51Yqxk3btlwAQIg     Tsevi's Pub And Grill      Green Lane    1.5   \n",
      "4  k0hlBqXX-Bt0vf1op7Jr1w            Sonic Drive-In      Green Lane    5.0   \n",
      "5  mWMc6_wTdE0EUBKIGXDVfA  Abby Rappoport, LAC, CMQ          Tucson    5.0   \n",
      "6  mWMc6_wTdE0EUBKIGXDVfA            Sonic Drive-In   Land O' Lakes    3.5   \n",
      "7  Pns2l4eNsfO8kk83dixA6A        St Honore Pastries    Ashland City    3.5   \n",
      "8  mWMc6_wTdE0EUBKIGXDVfA            Sonic Drive-In   Land O' Lakes    4.5   \n",
      "9  mWMc6_wTdE0EUBKIGXDVfA                    Target    Philadelphia    3.0   \n",
      "\n",
      "   review_count  is_open                categories0  \\\n",
      "0             5        0  Ice Cream & Frozen Yogurt   \n",
      "1            80        1          Department Stores   \n",
      "2             6        0                Restaurants   \n",
      "3            13        1                 Synagogues   \n",
      "4            15        0                       Pubs   \n",
      "5            19        1                 Synagogues   \n",
      "6            15        0                 Synagogues   \n",
      "7            13        1                    Doctors   \n",
      "8            80        0                 Synagogues   \n",
      "9            22        1                   Brewpubs   \n",
      "\n",
      "                     categories1             categories2       categories3  \\\n",
      "0                    Restaurants                 Italian              Bars   \n",
      "1                      Breweries                    Food   Mailbox Centers   \n",
      "2                 Local Services                 Fashion     Home & Garden   \n",
      "3                    Restaurants                     NaN      Coffee & Tea   \n",
      "4        Religious Organizations             Shoe Stores              Bars   \n",
      "5                      Breweries                     NaN              Food   \n",
      "6                    Restaurants             Shoe Stores       Acupuncture   \n",
      "7   Traditional Chinese Medicine   Naturopathic/Holistic               NaN   \n",
      "8                      Breweries                 Italian              Bars   \n",
      "9                 Local Services                 Italian          Shopping   \n",
      "\n",
      "                  categories4  \n",
      "0      American (Traditional)  \n",
      "1                 Electronics  \n",
      "2                 Electronics  \n",
      "3   Ice Cream & Frozen Yogurt  \n",
      "4                 Restaurants  \n",
      "5                 Restaurants  \n",
      "6            Health & Medical  \n",
      "7            Health & Medical  \n",
      "8   Ice Cream & Frozen Yogurt  \n",
      "9                         NaN  \n",
      "                review_id                 user_id             business_id  \\\n",
      "0  AqPFMleE6RsU23_auESxiA  8g_iMtfSiwikVnbP2etR0A  gmjsEdUsKpj9Xxu6pdjH0g   \n",
      "1  KU_O5udG6zpxOg-VcAEodg  _7bHUi9Uuf5__HHc_Q8guQ  e4Vwtrqf-wpJfwesgvdgxQ   \n",
      "2  BiTunyQ73aT9WBnpR9DZGw  bcjbaE6dDog4jkNY91ncLQ  04UD14gamNjLY0IDYVhHJg   \n",
      "3  JrIxlS1TzJ-iCu79ul40cQ  _7bHUi9Uuf5__HHc_Q8guQ  7ATYjTIgM3jUlt4UM3IypQ   \n",
      "4  _ZeMknuYdlQcUqng_Im3yg  wSTuiTk-sKNdcFyprzZAjg  e4Vwtrqf-wpJfwesgvdgxQ   \n",
      "5  _ZeMknuYdlQcUqng_Im3yg  59MxRhNVhU9MYndMkz0wtw  XQfwVwDr-v0ZS3_CbbE5Xw   \n",
      "6  KU_O5udG6zpxOg-VcAEodg  59MxRhNVhU9MYndMkz0wtw  04UD14gamNjLY0IDYVhHJg   \n",
      "7  saUsX_uimxRlCVr67Z4Jig  r3zeYsv1XFBRA4dJpL78cw  04UD14gamNjLY0IDYVhHJg   \n",
      "8  KU_O5udG6zpxOg-VcAEodg  _7bHUi9Uuf5__HHc_Q8guQ  kxX2SOes4o-D3ZQBkiMRfA   \n",
      "9  pUycOfUwM8vqX7KjRRhUEA  59MxRhNVhU9MYndMkz0wtw  e4Vwtrqf-wpJfwesgvdgxQ   \n",
      "\n",
      "   stars  useful  funny  cool           date  \n",
      "0      1       1      4     9  1531001351000  \n",
      "1      3       7     12     6  1391632230000  \n",
      "2      4       5      1     8  1420327278000  \n",
      "3      1       7      2     9  1459377993000  \n",
      "4      1       4      4     7  1469431866000  \n",
      "5      1       4     12     6  1391632230000  \n",
      "6      4      14      4     3  1325604498000  \n",
      "7      2       2     12     1  1391632230000  \n",
      "8      2       4      9     2  1459377993000  \n",
      "9      3       0      2     8  1443049831000  \n",
      "                  user_id         name  review_count        yelping_since\n",
      "0  j14WgRoU_-2ZE1aw1dXrJg         John           133  2009-07-11 16:47:38\n",
      "1  wAw9FHMiOZd9ROoc5x4DpQ  Joz Joz Joz           358  2006-03-03 08:10:12\n"
     ]
    }
   ],
   "source": [
    "#generate a new dataframe with structure of source file\n",
    "fake_df_business = gen_df_dict(fake_dict_business, 10000)\n",
    "fake_df_review = gen_df_dict(fake_dict_review, 10)\n",
    "fake_df_user = gen_df_dict(fake_dict_user, 2)\n",
    "\n",
    "fake_df_business.to_csv('../../data/datafiles/out/faker/yelp_academic_dataset_business_transformed_synthetic.csv')\n",
    "fake_df_review.to_csv('../../data/datafiles/out/faker/yelp_academic_dataset_review_transformed_synthetic.csv')\n",
    "fake_df_user.to_csv('../../data/datafiles/out/faker/yelp_academic_dataset_user_transformed_synthetic.csv')\n",
    "\n",
    "#print generated fake data\n",
    "print (fake_df_business)\n",
    "print (fake_df_review)\n",
    "print (fake_df_user)"
   ]
  }
 ],
 "metadata": {
  "kernelspec": {
   "display_name": "Python 3",
   "language": "python",
   "name": "python3"
  },
  "language_info": {
   "codemirror_mode": {
    "name": "ipython",
    "version": 3
   },
   "file_extension": ".py",
   "mimetype": "text/x-python",
   "name": "python",
   "nbconvert_exporter": "python",
   "pygments_lexer": "ipython3",
   "version": "3.8.16"
  },
  "orig_nbformat": 4,
  "vscode": {
   "interpreter": {
    "hash": "949777d72b0d2535278d3dc13498b2535136f6dfe0678499012e853ee9abcab1"
   }
  }
 },
 "nbformat": 4,
 "nbformat_minor": 2
}
