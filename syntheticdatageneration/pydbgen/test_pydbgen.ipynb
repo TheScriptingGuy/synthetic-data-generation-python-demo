{
 "cells": [
  {
   "attachments": {},
   "cell_type": "markdown",
   "metadata": {},
   "source": [
    "### Import packages"
   ]
  },
  {
   "cell_type": "code",
   "execution_count": 1,
   "metadata": {},
   "outputs": [],
   "source": [
    "import pydbgen\n",
    "from pydbgen import pydbgen"
   ]
  },
  {
   "attachments": {},
   "cell_type": "markdown",
   "metadata": {},
   "source": [
    "### Generate fake attribute"
   ]
  },
  {
   "cell_type": "code",
   "execution_count": 2,
   "metadata": {},
   "outputs": [
    {
     "name": "stdout",
     "output_type": "stream",
     "text": [
      "Lernerville\n"
     ]
    }
   ],
   "source": [
    "myDB=pydbgen.pydb()\n",
    "\n",
    "print(myDB.city_real())"
   ]
  },
  {
   "attachments": {},
   "cell_type": "markdown",
   "metadata": {},
   "source": [
    "### Generate fake dataframe"
   ]
  },
  {
   "cell_type": "code",
   "execution_count": 3,
   "metadata": {},
   "outputs": [
    {
     "name": "stdout",
     "output_type": "stream",
     "text": [
      "             name                 city  phone-number        date location\n",
      "0  Jessica Garcia        Hollidaysburg  650-838-7269  1972-01-19     None\n",
      "1   Beth Anderson             Oak View  645-054-2775  1988-07-03     None\n",
      "2     Shane Moore         West Hanover  115-091-9772  1998-06-21     None\n",
      "3     Eric Watson             Cranston  758-184-8966  2015-11-17     None\n",
      "4    Joshua Reyes  Arden-on-the-Severn  286-477-2715  1996-11-05     None\n"
     ]
    }
   ],
   "source": [
    "testdf=myDB.gen_dataframe(5,['name','city','phone','date','location'])\n",
    "print(testdf)"
   ]
  }
 ],
 "metadata": {
  "kernelspec": {
   "display_name": "Python 3",
   "language": "python",
   "name": "python3"
  },
  "language_info": {
   "codemirror_mode": {
    "name": "ipython",
    "version": 3
   },
   "file_extension": ".py",
   "mimetype": "text/x-python",
   "name": "python",
   "nbconvert_exporter": "python",
   "pygments_lexer": "ipython3",
   "version": "3.8.16"
  },
  "orig_nbformat": 4,
  "vscode": {
   "interpreter": {
    "hash": "949777d72b0d2535278d3dc13498b2535136f6dfe0678499012e853ee9abcab1"
   }
  }
 },
 "nbformat": 4,
 "nbformat_minor": 2
}
