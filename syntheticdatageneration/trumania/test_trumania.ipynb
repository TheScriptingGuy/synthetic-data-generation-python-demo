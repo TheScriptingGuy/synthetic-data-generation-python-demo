{
 "cells": [
  {
   "attachments": {},
   "cell_type": "markdown",
   "metadata": {},
   "source": [
    "### Import Packages"
   ]
  },
  {
   "cell_type": "code",
   "execution_count": 1,
   "metadata": {},
   "outputs": [],
   "source": [
    "import logging\n",
    "import random\n",
    "import csv\n",
    "import pandas as pd\n",
    "from faker import Faker\n",
    "from trumania.core import circus, operations\n",
    "from trumania.core.random_generators import SequencialGenerator, FakerGenerator, NumpyRandomGenerator, ConstantDependentGenerator, ConstantGenerator\n",
    "import trumania.core.util_functions as util_functions"
   ]
  },
  {
   "attachments": {},
   "cell_type": "markdown",
   "metadata": {},
   "source": [
    "### Creating a Trumania Circus"
   ]
  },
  {
   "cell_type": "code",
   "execution_count": 2,
   "metadata": {},
   "outputs": [],
   "source": [
    "example_circus = circus.Circus(name=\"Review\", \n",
    "                               master_seed=12345,\n",
    "                               start=pd.Timestamp(\"1 Jan 2023 00:00\"),\n",
    "                               step_duration=pd.Timedelta(\"1h\"))"
   ]
  },
  {
   "attachments": {},
   "cell_type": "markdown",
   "metadata": {},
   "source": [
    "### Creating a Person entity"
   ]
  },
  {
   "cell_type": "code",
   "execution_count": 3,
   "metadata": {},
   "outputs": [
    {
     "data": {
      "text/plain": [
       "<trumania.core.attribute.Attribute at 0x7f7fcf8f2820>"
      ]
     },
     "execution_count": 3,
     "metadata": {},
     "output_type": "execute_result"
    }
   ],
   "source": [
    "# define generators for the different data types.\n",
    "id_gen = FakerGenerator(method=\"pystr\", min_chars=22, max_chars=22, seed=next(example_circus.seeder))\n",
    "name_gen = FakerGenerator(method=\"name\", seed=next(example_circus.seeder))\n",
    "review_count_gen = FakerGenerator(method=\"pyint\", min_value=0, max_value=10, seed=next(example_circus.seeder))\n",
    "date_gen = FakerGenerator(method=\"date\", seed=next(example_circus.seeder))\n",
    "\n",
    "# create a population and assign a generator to each attribute\n",
    "person = example_circus.create_population(name=\"person\", size=1000, ids_gen=id_gen)\n",
    "person.create_attribute(\"name\", init_gen=name_gen)\n",
    "person.create_attribute(\"review_count\", init_gen=review_count_gen)\n",
    "person.create_attribute(\"yelping_since\", init_gen=date_gen)"
   ]
  },
  {
   "attachments": {},
   "cell_type": "markdown",
   "metadata": {},
   "source": [
    "### Create a Business entity"
   ]
  },
  {
   "cell_type": "code",
   "execution_count": 4,
   "metadata": {},
   "outputs": [
    {
     "data": {
      "text/plain": [
       "<trumania.core.attribute.Attribute at 0x7f7f98e4cfd0>"
      ]
     },
     "execution_count": 4,
     "metadata": {},
     "output_type": "execute_result"
    }
   ],
   "source": [
    "# the default 'city' Faker generates other cities than the original file\n",
    "# therefore infer a 'city' list based on the original file\n",
    "df_business = pd.read_csv('../../data/datafiles/yelp_academic_dataset_business_transformed_filtered.csv')\n",
    "city_values = random.choices(df_business[\"city\"].unique().tolist(), k=10000)\n",
    "\n",
    "# define generators for the different data types.\n",
    "company_gen = FakerGenerator(method=\"company\", seed=next(example_circus.seeder))\n",
    "stars_gen = FakerGenerator(method=\"pydecimal\", min_value=0, max_value=5, right_digits=0, seed=next(example_circus.seeder))\n",
    "is_open_gen = FakerGenerator(method=\"pyint\", min_value=0, max_value=1, seed=next(example_circus.seeder))\n",
    "\n",
    "# create a population and assign a generator to each attribute\n",
    "business = example_circus.create_population(name=\"business\", size=10000, ids_gen=id_gen)\n",
    "business.create_attribute(\"name\", init_gen=company_gen)\n",
    "business.create_attribute(\"city\",init_values=city_values)\n",
    "business.create_attribute(\"stars\", init_gen=stars_gen)\n",
    "business.create_attribute(\"review_count\", init_gen=review_count_gen)\n",
    "business.create_attribute(\"is_open\", init_gen=is_open_gen)\n",
    "business.create_attribute(\"categories0\", init_gen=name_gen)\n",
    "business.create_attribute(\"categories1\", init_gen=name_gen)\n",
    "business.create_attribute(\"categories2\", init_gen=name_gen)\n",
    "business.create_attribute(\"categories3\", init_gen=name_gen)\n",
    "business.create_attribute(\"categories4\", init_gen=name_gen)"
   ]
  },
  {
   "attachments": {},
   "cell_type": "markdown",
   "metadata": {},
   "source": [
    "### Define Story"
   ]
  },
  {
   "cell_type": "code",
   "execution_count": 5,
   "metadata": {},
   "outputs": [
    {
     "name": "stderr",
     "output_type": "stream",
     "text": [
      "WARNING:root:story not found: review_visit\n",
      "/trumania/trumania/core/story.py:50: FutureWarning: The default dtype for empty Series will be 'object' instead of 'float64' in a future version. Specify a dtype explicitly to silence this warning.\n",
      "  self.forced_to_act_next = pd.Series()\n"
     ]
    }
   ],
   "source": [
    "# define a story that is initiated by a population.\n",
    "# in this case a review is initiated by a 'person'.\n",
    "review_visit = example_circus.create_story(\n",
    "    name=\"review_visit\",\n",
    "    initiating_population=example_circus.populations[\"person\"],\n",
    "    member_id_field=\"user_id\",\n",
    "    timer_gen=ConstantDependentGenerator(value=1)\n",
    ")\n",
    "\n",
    "# add an operation that will be executed at every clock step.\n",
    "# in this case, create a review for a business by a person.\n",
    "review_visit.set_operations(\n",
    "    # generate an unique id for every review\n",
    "    id_gen.ops.generate(named_as=\"review_id\"),\n",
    "    # pick a random business\n",
    "    example_circus.populations[\"business\"].ops.select_one(named_as=\"business_id\"),\n",
    "    # generate a score between 0 and X\n",
    "    FakerGenerator(method=\"pyint\", min_value=0, max_value=5, seed=next(example_circus.seeder)).ops.generate(named_as=\"stars\"),\n",
    "    FakerGenerator(method=\"pyint\", min_value=0, max_value=9, seed=next(example_circus.seeder)).ops.generate(named_as=\"useful\"),\n",
    "    FakerGenerator(method=\"pyint\", min_value=0, max_value=5, seed=next(example_circus.seeder)).ops.generate(named_as=\"funny\"),                                                                                                            \n",
    "    FakerGenerator(method=\"pyint\", min_value=0, max_value=5, seed=next(example_circus.seeder)).ops.generate(named_as=\"cool\"),\n",
    "    # generate a timestamp between 2015 and 2023 (see https://www.unixtimestamp.com/)\n",
    "    FakerGenerator(method=\"unix_time\", end_datetime=1674658816, start_datetime=1434898086, seed=next(example_circus.seeder)).ops.generate(named_as=\"date\"),                                                                                                            \n",
    "\n",
    "    # define the output\n",
    "    operations.FieldLogger(log_id=\"reviews\", cols=[\"review_id\",\"user_id\", \"business_id\",\"stars\",\"useful\",\"funny\",\"cool\",\"date\" ])\n",
    " )"
   ]
  },
  {
   "attachments": {},
   "cell_type": "markdown",
   "metadata": {},
   "source": [
    "### Run the Circus"
   ]
  },
  {
   "cell_type": "code",
   "execution_count": 6,
   "metadata": {},
   "outputs": [
    {
     "name": "stderr",
     "output_type": "stream",
     "text": [
      "/trumania/trumania/core/story.py:195: FutureWarning: The default dtype for empty Series will be 'object' instead of 'float64' in a future version. Specify a dtype explicitly to silence this warning.\n",
      "  self.forced_to_act_next = pd.Series()\n",
      "/trumania/trumania/core/story.py:195: FutureWarning: The default dtype for empty Series will be 'object' instead of 'float64' in a future version. Specify a dtype explicitly to silence this warning.\n",
      "  self.forced_to_act_next = pd.Series()\n",
      "/trumania/trumania/core/story.py:195: FutureWarning: The default dtype for empty Series will be 'object' instead of 'float64' in a future version. Specify a dtype explicitly to silence this warning.\n",
      "  self.forced_to_act_next = pd.Series()\n",
      "/trumania/trumania/core/story.py:195: FutureWarning: The default dtype for empty Series will be 'object' instead of 'float64' in a future version. Specify a dtype explicitly to silence this warning.\n",
      "  self.forced_to_act_next = pd.Series()\n",
      "/trumania/trumania/core/story.py:195: FutureWarning: The default dtype for empty Series will be 'object' instead of 'float64' in a future version. Specify a dtype explicitly to silence this warning.\n",
      "  self.forced_to_act_next = pd.Series()\n",
      "/trumania/trumania/core/story.py:195: FutureWarning: The default dtype for empty Series will be 'object' instead of 'float64' in a future version. Specify a dtype explicitly to silence this warning.\n",
      "  self.forced_to_act_next = pd.Series()\n",
      "/trumania/trumania/core/story.py:195: FutureWarning: The default dtype for empty Series will be 'object' instead of 'float64' in a future version. Specify a dtype explicitly to silence this warning.\n",
      "  self.forced_to_act_next = pd.Series()\n",
      "/trumania/trumania/core/story.py:195: FutureWarning: The default dtype for empty Series will be 'object' instead of 'float64' in a future version. Specify a dtype explicitly to silence this warning.\n",
      "  self.forced_to_act_next = pd.Series()\n",
      "/trumania/trumania/core/story.py:195: FutureWarning: The default dtype for empty Series will be 'object' instead of 'float64' in a future version. Specify a dtype explicitly to silence this warning.\n",
      "  self.forced_to_act_next = pd.Series()\n",
      "/trumania/trumania/core/story.py:195: FutureWarning: The default dtype for empty Series will be 'object' instead of 'float64' in a future version. Specify a dtype explicitly to silence this warning.\n",
      "  self.forced_to_act_next = pd.Series()\n",
      "/trumania/trumania/core/story.py:195: FutureWarning: The default dtype for empty Series will be 'object' instead of 'float64' in a future version. Specify a dtype explicitly to silence this warning.\n",
      "  self.forced_to_act_next = pd.Series()\n",
      "/trumania/trumania/core/story.py:195: FutureWarning: The default dtype for empty Series will be 'object' instead of 'float64' in a future version. Specify a dtype explicitly to silence this warning.\n",
      "  self.forced_to_act_next = pd.Series()\n",
      "/trumania/trumania/core/story.py:195: FutureWarning: The default dtype for empty Series will be 'object' instead of 'float64' in a future version. Specify a dtype explicitly to silence this warning.\n",
      "  self.forced_to_act_next = pd.Series()\n",
      "/trumania/trumania/core/story.py:195: FutureWarning: The default dtype for empty Series will be 'object' instead of 'float64' in a future version. Specify a dtype explicitly to silence this warning.\n",
      "  self.forced_to_act_next = pd.Series()\n",
      "/trumania/trumania/core/story.py:195: FutureWarning: The default dtype for empty Series will be 'object' instead of 'float64' in a future version. Specify a dtype explicitly to silence this warning.\n",
      "  self.forced_to_act_next = pd.Series()\n",
      "/trumania/trumania/core/story.py:195: FutureWarning: The default dtype for empty Series will be 'object' instead of 'float64' in a future version. Specify a dtype explicitly to silence this warning.\n",
      "  self.forced_to_act_next = pd.Series()\n",
      "/trumania/trumania/core/story.py:195: FutureWarning: The default dtype for empty Series will be 'object' instead of 'float64' in a future version. Specify a dtype explicitly to silence this warning.\n",
      "  self.forced_to_act_next = pd.Series()\n",
      "/trumania/trumania/core/story.py:195: FutureWarning: The default dtype for empty Series will be 'object' instead of 'float64' in a future version. Specify a dtype explicitly to silence this warning.\n",
      "  self.forced_to_act_next = pd.Series()\n",
      "/trumania/trumania/core/story.py:195: FutureWarning: The default dtype for empty Series will be 'object' instead of 'float64' in a future version. Specify a dtype explicitly to silence this warning.\n",
      "  self.forced_to_act_next = pd.Series()\n",
      "/trumania/trumania/core/story.py:195: FutureWarning: The default dtype for empty Series will be 'object' instead of 'float64' in a future version. Specify a dtype explicitly to silence this warning.\n",
      "  self.forced_to_act_next = pd.Series()\n",
      "/trumania/trumania/core/story.py:195: FutureWarning: The default dtype for empty Series will be 'object' instead of 'float64' in a future version. Specify a dtype explicitly to silence this warning.\n",
      "  self.forced_to_act_next = pd.Series()\n",
      "/trumania/trumania/core/story.py:195: FutureWarning: The default dtype for empty Series will be 'object' instead of 'float64' in a future version. Specify a dtype explicitly to silence this warning.\n",
      "  self.forced_to_act_next = pd.Series()\n",
      "/trumania/trumania/core/story.py:195: FutureWarning: The default dtype for empty Series will be 'object' instead of 'float64' in a future version. Specify a dtype explicitly to silence this warning.\n",
      "  self.forced_to_act_next = pd.Series()\n",
      "/trumania/trumania/core/story.py:195: FutureWarning: The default dtype for empty Series will be 'object' instead of 'float64' in a future version. Specify a dtype explicitly to silence this warning.\n",
      "  self.forced_to_act_next = pd.Series()\n",
      "/trumania/trumania/core/story.py:195: FutureWarning: The default dtype for empty Series will be 'object' instead of 'float64' in a future version. Specify a dtype explicitly to silence this warning.\n",
      "  self.forced_to_act_next = pd.Series()\n",
      "/trumania/trumania/core/story.py:195: FutureWarning: The default dtype for empty Series will be 'object' instead of 'float64' in a future version. Specify a dtype explicitly to silence this warning.\n",
      "  self.forced_to_act_next = pd.Series()\n",
      "/trumania/trumania/core/story.py:195: FutureWarning: The default dtype for empty Series will be 'object' instead of 'float64' in a future version. Specify a dtype explicitly to silence this warning.\n",
      "  self.forced_to_act_next = pd.Series()\n",
      "/trumania/trumania/core/story.py:195: FutureWarning: The default dtype for empty Series will be 'object' instead of 'float64' in a future version. Specify a dtype explicitly to silence this warning.\n",
      "  self.forced_to_act_next = pd.Series()\n",
      "/trumania/trumania/core/story.py:195: FutureWarning: The default dtype for empty Series will be 'object' instead of 'float64' in a future version. Specify a dtype explicitly to silence this warning.\n",
      "  self.forced_to_act_next = pd.Series()\n",
      "/trumania/trumania/core/story.py:195: FutureWarning: The default dtype for empty Series will be 'object' instead of 'float64' in a future version. Specify a dtype explicitly to silence this warning.\n",
      "  self.forced_to_act_next = pd.Series()\n",
      "/trumania/trumania/core/story.py:195: FutureWarning: The default dtype for empty Series will be 'object' instead of 'float64' in a future version. Specify a dtype explicitly to silence this warning.\n",
      "  self.forced_to_act_next = pd.Series()\n",
      "/trumania/trumania/core/story.py:195: FutureWarning: The default dtype for empty Series will be 'object' instead of 'float64' in a future version. Specify a dtype explicitly to silence this warning.\n",
      "  self.forced_to_act_next = pd.Series()\n",
      "/trumania/trumania/core/story.py:195: FutureWarning: The default dtype for empty Series will be 'object' instead of 'float64' in a future version. Specify a dtype explicitly to silence this warning.\n",
      "  self.forced_to_act_next = pd.Series()\n",
      "/trumania/trumania/core/story.py:195: FutureWarning: The default dtype for empty Series will be 'object' instead of 'float64' in a future version. Specify a dtype explicitly to silence this warning.\n",
      "  self.forced_to_act_next = pd.Series()\n",
      "/trumania/trumania/core/story.py:195: FutureWarning: The default dtype for empty Series will be 'object' instead of 'float64' in a future version. Specify a dtype explicitly to silence this warning.\n",
      "  self.forced_to_act_next = pd.Series()\n",
      "/trumania/trumania/core/story.py:195: FutureWarning: The default dtype for empty Series will be 'object' instead of 'float64' in a future version. Specify a dtype explicitly to silence this warning.\n",
      "  self.forced_to_act_next = pd.Series()\n",
      "/trumania/trumania/core/story.py:195: FutureWarning: The default dtype for empty Series will be 'object' instead of 'float64' in a future version. Specify a dtype explicitly to silence this warning.\n",
      "  self.forced_to_act_next = pd.Series()\n",
      "/trumania/trumania/core/story.py:195: FutureWarning: The default dtype for empty Series will be 'object' instead of 'float64' in a future version. Specify a dtype explicitly to silence this warning.\n",
      "  self.forced_to_act_next = pd.Series()\n",
      "/trumania/trumania/core/story.py:195: FutureWarning: The default dtype for empty Series will be 'object' instead of 'float64' in a future version. Specify a dtype explicitly to silence this warning.\n",
      "  self.forced_to_act_next = pd.Series()\n",
      "/trumania/trumania/core/story.py:195: FutureWarning: The default dtype for empty Series will be 'object' instead of 'float64' in a future version. Specify a dtype explicitly to silence this warning.\n",
      "  self.forced_to_act_next = pd.Series()\n",
      "/trumania/trumania/core/story.py:195: FutureWarning: The default dtype for empty Series will be 'object' instead of 'float64' in a future version. Specify a dtype explicitly to silence this warning.\n",
      "  self.forced_to_act_next = pd.Series()\n",
      "/trumania/trumania/core/story.py:195: FutureWarning: The default dtype for empty Series will be 'object' instead of 'float64' in a future version. Specify a dtype explicitly to silence this warning.\n",
      "  self.forced_to_act_next = pd.Series()\n",
      "/trumania/trumania/core/story.py:195: FutureWarning: The default dtype for empty Series will be 'object' instead of 'float64' in a future version. Specify a dtype explicitly to silence this warning.\n",
      "  self.forced_to_act_next = pd.Series()\n",
      "/trumania/trumania/core/story.py:195: FutureWarning: The default dtype for empty Series will be 'object' instead of 'float64' in a future version. Specify a dtype explicitly to silence this warning.\n",
      "  self.forced_to_act_next = pd.Series()\n",
      "/trumania/trumania/core/story.py:195: FutureWarning: The default dtype for empty Series will be 'object' instead of 'float64' in a future version. Specify a dtype explicitly to silence this warning.\n",
      "  self.forced_to_act_next = pd.Series()\n",
      "/trumania/trumania/core/story.py:195: FutureWarning: The default dtype for empty Series will be 'object' instead of 'float64' in a future version. Specify a dtype explicitly to silence this warning.\n",
      "  self.forced_to_act_next = pd.Series()\n",
      "/trumania/trumania/core/story.py:195: FutureWarning: The default dtype for empty Series will be 'object' instead of 'float64' in a future version. Specify a dtype explicitly to silence this warning.\n",
      "  self.forced_to_act_next = pd.Series()\n",
      "/trumania/trumania/core/story.py:195: FutureWarning: The default dtype for empty Series will be 'object' instead of 'float64' in a future version. Specify a dtype explicitly to silence this warning.\n",
      "  self.forced_to_act_next = pd.Series()\n"
     ]
    }
   ],
   "source": [
    "# run the circus for 48h and save the output\n",
    "example_circus.run(\n",
    "    duration=pd.Timedelta(\"48h\"),\n",
    "    log_output_folder=\"../../data/datafiles/out/trumania\",\n",
    "    delete_existing_logs=True\n",
    ")\n",
    "\n",
    "# convert the entities to dataframes\n",
    "person_df = person.to_dataframe()\n",
    "business_df = business.to_dataframe()\n",
    "\n",
    "# save the entities\n",
    "person_df.to_csv(\"../../data/datafiles/out/trumania/user.csv\", index_label='user_id')\n",
    "business_df.to_csv(\"../../data/datafiles/out/trumania/business.csv\", index_label='business_id',quoting=csv.QUOTE_NONNUMERIC)"
   ]
  }
 ],
 "metadata": {
  "kernelspec": {
   "display_name": "Python 3",
   "language": "python",
   "name": "python3"
  },
  "language_info": {
   "codemirror_mode": {
    "name": "ipython",
    "version": 3
   },
   "file_extension": ".py",
   "mimetype": "text/x-python",
   "name": "python",
   "nbconvert_exporter": "python",
   "pygments_lexer": "ipython3",
   "version": "3.8.16"
  },
  "orig_nbformat": 4,
  "vscode": {
   "interpreter": {
    "hash": "949777d72b0d2535278d3dc13498b2535136f6dfe0678499012e853ee9abcab1"
   }
  }
 },
 "nbformat": 4,
 "nbformat_minor": 2
}
