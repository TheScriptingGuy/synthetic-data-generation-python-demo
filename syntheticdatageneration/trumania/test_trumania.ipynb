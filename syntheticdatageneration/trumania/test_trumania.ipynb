{
 "cells": [
  {
   "attachments": {},
   "cell_type": "markdown",
   "metadata": {},
   "source": [
    "### Import Packages"
   ]
  },
  {
   "cell_type": "code",
   "execution_count": 1,
   "metadata": {},
   "outputs": [],
   "source": [
    "import logging\n",
    "import random\n",
    "import csv\n",
    "import pandas as pd\n",
    "from faker import Faker\n",
    "from trumania.core import circus, operations\n",
    "from trumania.core.random_generators import SequencialGenerator, FakerGenerator, NumpyRandomGenerator, ConstantDependentGenerator, ConstantGenerator\n",
    "import trumania.core.util_functions as util_functions"
   ]
  },
  {
   "attachments": {},
   "cell_type": "markdown",
   "metadata": {},
   "source": [
    "### Creating a Trumania Circus"
   ]
  },
  {
   "cell_type": "code",
   "execution_count": 2,
   "metadata": {},
   "outputs": [],
   "source": [
    "example_circus = circus.Circus(name=\"Review\", \n",
    "                               master_seed=12345,\n",
    "                               start=pd.Timestamp(\"1 Jan 2023 00:00\"),\n",
    "                               step_duration=pd.Timedelta(\"1h\"))"
   ]
  },
  {
   "attachments": {},
   "cell_type": "markdown",
   "metadata": {},
   "source": [
    "### Creating a Person entity"
   ]
  },
  {
   "cell_type": "code",
   "execution_count": 3,
   "metadata": {},
   "outputs": [
    {
     "data": {
      "text/plain": [
       "<trumania.core.attribute.Attribute at 0x7fce83e84850>"
      ]
     },
     "execution_count": 3,
     "metadata": {},
     "output_type": "execute_result"
    }
   ],
   "source": [
    "# define generators for the different data types.\n",
    "id_gen = FakerGenerator(method=\"pystr\", min_chars=22, max_chars=22, seed=next(example_circus.seeder))\n",
    "name_gen = FakerGenerator(method=\"name\", seed=next(example_circus.seeder))\n",
    "review_count_gen = FakerGenerator(method=\"pyint\", min_value=0, max_value=10, seed=next(example_circus.seeder))\n",
    "date_gen = FakerGenerator(method=\"date\", seed=next(example_circus.seeder))\n",
    "\n",
    "# create a population and assign a generator to each attribute\n",
    "person = example_circus.create_population(name=\"person\", size=1000, ids_gen=id_gen)\n",
    "person.create_attribute(\"name\", init_gen=name_gen)\n",
    "person.create_attribute(\"review_count\", init_gen=review_count_gen)\n",
    "person.create_attribute(\"yelping_since\", init_gen=date_gen)"
   ]
  },
  {
   "attachments": {},
   "cell_type": "markdown",
   "metadata": {},
   "source": [
    "### Create a Business entity"
   ]
  },
  {
   "cell_type": "code",
   "execution_count": 6,
   "metadata": {},
   "outputs": [
    {
     "data": {
      "text/plain": [
       "<trumania.core.attribute.Attribute at 0x7fce83e67670>"
      ]
     },
     "execution_count": 6,
     "metadata": {},
     "output_type": "execute_result"
    }
   ],
   "source": [
    "# the default 'city' Faker generates other cities than the original file\n",
    "# therefore infer a 'city' list based on the original file\n",
    "df_business = pd.read_csv('../../data/datafiles/yelp_academic_dataset_business_transformed_filtered.csv')\n",
    "city_values = random.choices(df_business[\"city\"].unique().tolist(), k=10000)\n",
    "\n",
    "# define generators for the different data types.\n",
    "company_gen = FakerGenerator(method=\"company\", seed=next(example_circus.seeder))\n",
    "stars_gen = FakerGenerator(method=\"pydecimal\", min_value=0, max_value=5, right_digits=0, seed=next(example_circus.seeder))\n",
    "is_open_gen = FakerGenerator(method=\"pyint\", min_value=0, max_value=1, seed=next(example_circus.seeder))\n",
    "\n",
    "# create a population and assign a generator to each attribute\n",
    "business = example_circus.create_population(name=\"business\", size=10000, ids_gen=id_gen)\n",
    "business.create_attribute(\"name\", init_gen=company_gen)\n",
    "business.create_attribute(\"city\",init_values=city_values)\n",
    "business.create_attribute(\"stars\", init_gen=stars_gen)\n",
    "business.create_attribute(\"review_count\", init_gen=review_count_gen)\n",
    "business.create_attribute(\"is_open\", init_gen=is_open_gen)\n",
    "business.create_attribute(\"categories0\", init_gen=name_gen)\n",
    "business.create_attribute(\"categories1\", init_gen=name_gen)\n",
    "business.create_attribute(\"categories2\", init_gen=name_gen)\n",
    "business.create_attribute(\"categories3\", init_gen=name_gen)\n",
    "business.create_attribute(\"categories4\", init_gen=name_gen)"
   ]
  },
  {
   "attachments": {},
   "cell_type": "markdown",
   "metadata": {},
   "source": [
    "### Define Story"
   ]
  },
  {
   "cell_type": "code",
   "execution_count": 8,
   "metadata": {},
   "outputs": [
    {
     "ename": "ValueError",
     "evalue": "Cannot add story review_visit: another story with identical name is already in the circus",
     "output_type": "error",
     "traceback": [
      "\u001b[0;31m---------------------------------------------------------------------------\u001b[0m",
      "\u001b[0;31mValueError\u001b[0m                                Traceback (most recent call last)",
      "Cell \u001b[0;32mIn[8], line 3\u001b[0m\n\u001b[1;32m      1\u001b[0m \u001b[39m# define a story that is initiated by a population.\u001b[39;00m\n\u001b[1;32m      2\u001b[0m \u001b[39m# in this case a review is initiated by a 'person'.\u001b[39;00m\n\u001b[0;32m----> 3\u001b[0m review_visit \u001b[39m=\u001b[39m example_circus\u001b[39m.\u001b[39;49mcreate_story(\n\u001b[1;32m      4\u001b[0m     name\u001b[39m=\u001b[39;49m\u001b[39m\"\u001b[39;49m\u001b[39mreview_visit\u001b[39;49m\u001b[39m\"\u001b[39;49m,\n\u001b[1;32m      5\u001b[0m     initiating_population\u001b[39m=\u001b[39;49mexample_circus\u001b[39m.\u001b[39;49mpopulations[\u001b[39m\"\u001b[39;49m\u001b[39mperson\u001b[39;49m\u001b[39m\"\u001b[39;49m],\n\u001b[1;32m      6\u001b[0m     member_id_field\u001b[39m=\u001b[39;49m\u001b[39m\"\u001b[39;49m\u001b[39muser_id\u001b[39;49m\u001b[39m\"\u001b[39;49m,\n\u001b[1;32m      7\u001b[0m     timer_gen\u001b[39m=\u001b[39;49mConstantDependentGenerator(value\u001b[39m=\u001b[39;49m\u001b[39m1\u001b[39;49m)\n\u001b[1;32m      8\u001b[0m )\n\u001b[1;32m     10\u001b[0m \u001b[39m# add an operation that will be executed at every clock step.\u001b[39;00m\n\u001b[1;32m     11\u001b[0m \u001b[39m# in this case, create a review for a business by a person.\u001b[39;00m\n\u001b[1;32m     12\u001b[0m review_visit\u001b[39m.\u001b[39mset_operations(\n\u001b[1;32m     13\u001b[0m     \u001b[39m# generate an unique id for every review\u001b[39;00m\n\u001b[1;32m     14\u001b[0m     id_gen\u001b[39m.\u001b[39mops\u001b[39m.\u001b[39mgenerate(named_as\u001b[39m=\u001b[39m\u001b[39m\"\u001b[39m\u001b[39mreview_id\u001b[39m\u001b[39m\"\u001b[39m),\n\u001b[0;32m   (...)\u001b[0m\n\u001b[1;32m     26\u001b[0m     operations\u001b[39m.\u001b[39mFieldLogger(log_id\u001b[39m=\u001b[39m\u001b[39m\"\u001b[39m\u001b[39mreviews\u001b[39m\u001b[39m\"\u001b[39m, cols\u001b[39m=\u001b[39m[\u001b[39m\"\u001b[39m\u001b[39mreview_id\u001b[39m\u001b[39m\"\u001b[39m,\u001b[39m\"\u001b[39m\u001b[39muser_id\u001b[39m\u001b[39m\"\u001b[39m, \u001b[39m\"\u001b[39m\u001b[39mbusiness_id\u001b[39m\u001b[39m\"\u001b[39m,\u001b[39m\"\u001b[39m\u001b[39mstars\u001b[39m\u001b[39m\"\u001b[39m,\u001b[39m\"\u001b[39m\u001b[39museful\u001b[39m\u001b[39m\"\u001b[39m,\u001b[39m\"\u001b[39m\u001b[39mfunny\u001b[39m\u001b[39m\"\u001b[39m,\u001b[39m\"\u001b[39m\u001b[39mcool\u001b[39m\u001b[39m\"\u001b[39m,\u001b[39m\"\u001b[39m\u001b[39mdate\u001b[39m\u001b[39m\"\u001b[39m ])\n\u001b[1;32m     27\u001b[0m  )\n",
      "File \u001b[0;32m/trumania/trumania/core/circus.py:82\u001b[0m, in \u001b[0;36mCircus.create_story\u001b[0;34m(self, name, **story_params)\u001b[0m\n\u001b[1;32m     79\u001b[0m     \u001b[39mreturn\u001b[39;00m story\n\u001b[1;32m     81\u001b[0m \u001b[39melse\u001b[39;00m:\n\u001b[0;32m---> 82\u001b[0m     \u001b[39mraise\u001b[39;00m \u001b[39mValueError\u001b[39;00m(\u001b[39m\"\u001b[39m\u001b[39mCannot add story \u001b[39m\u001b[39m{}\u001b[39;00m\u001b[39m: another story with \u001b[39m\u001b[39m\"\u001b[39m\n\u001b[1;32m     83\u001b[0m                      \u001b[39m\"\u001b[39m\u001b[39midentical name is already in the circus\u001b[39m\u001b[39m\"\u001b[39m\u001b[39m.\u001b[39mformat(name))\n",
      "\u001b[0;31mValueError\u001b[0m: Cannot add story review_visit: another story with identical name is already in the circus"
     ]
    }
   ],
   "source": [
    "# define a story that is initiated by a population.\n",
    "# in this case a review is initiated by a 'person'.\n",
    "review_visit = example_circus.create_story(\n",
    "    name=\"review_visit\",\n",
    "    initiating_population=example_circus.populations[\"person\"],\n",
    "    member_id_field=\"user_id\",\n",
    "    timer_gen=ConstantDependentGenerator(value=1)\n",
    ")\n",
    "\n",
    "# add an operation that will be executed at every clock step.\n",
    "# in this case, create a review for a business by a person.\n",
    "review_visit.set_operations(\n",
    "    # generate an unique id for every review\n",
    "    id_gen.ops.generate(named_as=\"review_id\"),\n",
    "    # pick a random business\n",
    "    example_circus.populations[\"business\"].ops.select_one(named_as=\"business_id\"),\n",
    "    # generate a score between 0 and 5\n",
    "    FakerGenerator(method=\"pyint\", min_value=0, max_value=5, seed=next(example_circus.seeder)).ops.generate(named_as=\"stars\"),\n",
    "    FakerGenerator(method=\"pyint\", min_value=0, max_value=5, seed=next(example_circus.seeder)).ops.generate(named_as=\"useful\"),\n",
    "    FakerGenerator(method=\"pyint\", min_value=0, max_value=5, seed=next(example_circus.seeder)).ops.generate(named_as=\"funny\"),                                                                                                            \n",
    "    FakerGenerator(method=\"pyint\", min_value=0, max_value=5, seed=next(example_circus.seeder)).ops.generate(named_as=\"cool\"),\n",
    "    # generate a timestamp between 2015 and 2023 (see https://www.unixtimestamp.com/)\n",
    "    FakerGenerator(method=\"unix_time\", end_datetime=1674658816, start_datetime=1434898086, seed=next(example_circus.seeder)).ops.generate(named_as=\"date\"),                                                                                                            \n",
    "\n",
    "    # define the output\n",
    "    operations.FieldLogger(log_id=\"reviews\", cols=[\"review_id\",\"user_id\", \"business_id\",\"stars\",\"useful\",\"funny\",\"cool\",\"date\" ])\n",
    " )"
   ]
  },
  {
   "attachments": {},
   "cell_type": "markdown",
   "metadata": {},
   "source": [
    "### Run the Circus"
   ]
  },
  {
   "cell_type": "code",
   "execution_count": 9,
   "metadata": {},
   "outputs": [
    {
     "name": "stderr",
     "output_type": "stream",
     "text": [
      "/trumania/trumania/core/story.py:195: FutureWarning: The default dtype for empty Series will be 'object' instead of 'float64' in a future version. Specify a dtype explicitly to silence this warning.\n",
      "  self.forced_to_act_next = pd.Series()\n",
      "/trumania/trumania/core/story.py:195: FutureWarning: The default dtype for empty Series will be 'object' instead of 'float64' in a future version. Specify a dtype explicitly to silence this warning.\n",
      "  self.forced_to_act_next = pd.Series()\n",
      "/trumania/trumania/core/story.py:195: FutureWarning: The default dtype for empty Series will be 'object' instead of 'float64' in a future version. Specify a dtype explicitly to silence this warning.\n",
      "  self.forced_to_act_next = pd.Series()\n",
      "/trumania/trumania/core/story.py:195: FutureWarning: The default dtype for empty Series will be 'object' instead of 'float64' in a future version. Specify a dtype explicitly to silence this warning.\n",
      "  self.forced_to_act_next = pd.Series()\n",
      "/trumania/trumania/core/story.py:195: FutureWarning: The default dtype for empty Series will be 'object' instead of 'float64' in a future version. Specify a dtype explicitly to silence this warning.\n",
      "  self.forced_to_act_next = pd.Series()\n",
      "/trumania/trumania/core/story.py:195: FutureWarning: The default dtype for empty Series will be 'object' instead of 'float64' in a future version. Specify a dtype explicitly to silence this warning.\n",
      "  self.forced_to_act_next = pd.Series()\n",
      "/trumania/trumania/core/story.py:195: FutureWarning: The default dtype for empty Series will be 'object' instead of 'float64' in a future version. Specify a dtype explicitly to silence this warning.\n",
      "  self.forced_to_act_next = pd.Series()\n",
      "/trumania/trumania/core/story.py:195: FutureWarning: The default dtype for empty Series will be 'object' instead of 'float64' in a future version. Specify a dtype explicitly to silence this warning.\n",
      "  self.forced_to_act_next = pd.Series()\n",
      "/trumania/trumania/core/story.py:195: FutureWarning: The default dtype for empty Series will be 'object' instead of 'float64' in a future version. Specify a dtype explicitly to silence this warning.\n",
      "  self.forced_to_act_next = pd.Series()\n",
      "/trumania/trumania/core/story.py:195: FutureWarning: The default dtype for empty Series will be 'object' instead of 'float64' in a future version. Specify a dtype explicitly to silence this warning.\n",
      "  self.forced_to_act_next = pd.Series()\n",
      "/trumania/trumania/core/story.py:195: FutureWarning: The default dtype for empty Series will be 'object' instead of 'float64' in a future version. Specify a dtype explicitly to silence this warning.\n",
      "  self.forced_to_act_next = pd.Series()\n",
      "/trumania/trumania/core/story.py:195: FutureWarning: The default dtype for empty Series will be 'object' instead of 'float64' in a future version. Specify a dtype explicitly to silence this warning.\n",
      "  self.forced_to_act_next = pd.Series()\n",
      "/trumania/trumania/core/story.py:195: FutureWarning: The default dtype for empty Series will be 'object' instead of 'float64' in a future version. Specify a dtype explicitly to silence this warning.\n",
      "  self.forced_to_act_next = pd.Series()\n",
      "/trumania/trumania/core/story.py:195: FutureWarning: The default dtype for empty Series will be 'object' instead of 'float64' in a future version. Specify a dtype explicitly to silence this warning.\n",
      "  self.forced_to_act_next = pd.Series()\n",
      "/trumania/trumania/core/story.py:195: FutureWarning: The default dtype for empty Series will be 'object' instead of 'float64' in a future version. Specify a dtype explicitly to silence this warning.\n",
      "  self.forced_to_act_next = pd.Series()\n",
      "/trumania/trumania/core/story.py:195: FutureWarning: The default dtype for empty Series will be 'object' instead of 'float64' in a future version. Specify a dtype explicitly to silence this warning.\n",
      "  self.forced_to_act_next = pd.Series()\n",
      "/trumania/trumania/core/story.py:195: FutureWarning: The default dtype for empty Series will be 'object' instead of 'float64' in a future version. Specify a dtype explicitly to silence this warning.\n",
      "  self.forced_to_act_next = pd.Series()\n",
      "/trumania/trumania/core/story.py:195: FutureWarning: The default dtype for empty Series will be 'object' instead of 'float64' in a future version. Specify a dtype explicitly to silence this warning.\n",
      "  self.forced_to_act_next = pd.Series()\n",
      "/trumania/trumania/core/story.py:195: FutureWarning: The default dtype for empty Series will be 'object' instead of 'float64' in a future version. Specify a dtype explicitly to silence this warning.\n",
      "  self.forced_to_act_next = pd.Series()\n",
      "/trumania/trumania/core/story.py:195: FutureWarning: The default dtype for empty Series will be 'object' instead of 'float64' in a future version. Specify a dtype explicitly to silence this warning.\n",
      "  self.forced_to_act_next = pd.Series()\n",
      "/trumania/trumania/core/story.py:195: FutureWarning: The default dtype for empty Series will be 'object' instead of 'float64' in a future version. Specify a dtype explicitly to silence this warning.\n",
      "  self.forced_to_act_next = pd.Series()\n",
      "/trumania/trumania/core/story.py:195: FutureWarning: The default dtype for empty Series will be 'object' instead of 'float64' in a future version. Specify a dtype explicitly to silence this warning.\n",
      "  self.forced_to_act_next = pd.Series()\n",
      "/trumania/trumania/core/story.py:195: FutureWarning: The default dtype for empty Series will be 'object' instead of 'float64' in a future version. Specify a dtype explicitly to silence this warning.\n",
      "  self.forced_to_act_next = pd.Series()\n",
      "/trumania/trumania/core/story.py:195: FutureWarning: The default dtype for empty Series will be 'object' instead of 'float64' in a future version. Specify a dtype explicitly to silence this warning.\n",
      "  self.forced_to_act_next = pd.Series()\n",
      "/trumania/trumania/core/story.py:195: FutureWarning: The default dtype for empty Series will be 'object' instead of 'float64' in a future version. Specify a dtype explicitly to silence this warning.\n",
      "  self.forced_to_act_next = pd.Series()\n",
      "/trumania/trumania/core/story.py:195: FutureWarning: The default dtype for empty Series will be 'object' instead of 'float64' in a future version. Specify a dtype explicitly to silence this warning.\n",
      "  self.forced_to_act_next = pd.Series()\n",
      "/trumania/trumania/core/story.py:195: FutureWarning: The default dtype for empty Series will be 'object' instead of 'float64' in a future version. Specify a dtype explicitly to silence this warning.\n",
      "  self.forced_to_act_next = pd.Series()\n",
      "/trumania/trumania/core/story.py:195: FutureWarning: The default dtype for empty Series will be 'object' instead of 'float64' in a future version. Specify a dtype explicitly to silence this warning.\n",
      "  self.forced_to_act_next = pd.Series()\n",
      "/trumania/trumania/core/story.py:195: FutureWarning: The default dtype for empty Series will be 'object' instead of 'float64' in a future version. Specify a dtype explicitly to silence this warning.\n",
      "  self.forced_to_act_next = pd.Series()\n",
      "/trumania/trumania/core/story.py:195: FutureWarning: The default dtype for empty Series will be 'object' instead of 'float64' in a future version. Specify a dtype explicitly to silence this warning.\n",
      "  self.forced_to_act_next = pd.Series()\n",
      "/trumania/trumania/core/story.py:195: FutureWarning: The default dtype for empty Series will be 'object' instead of 'float64' in a future version. Specify a dtype explicitly to silence this warning.\n",
      "  self.forced_to_act_next = pd.Series()\n",
      "/trumania/trumania/core/story.py:195: FutureWarning: The default dtype for empty Series will be 'object' instead of 'float64' in a future version. Specify a dtype explicitly to silence this warning.\n",
      "  self.forced_to_act_next = pd.Series()\n",
      "/trumania/trumania/core/story.py:195: FutureWarning: The default dtype for empty Series will be 'object' instead of 'float64' in a future version. Specify a dtype explicitly to silence this warning.\n",
      "  self.forced_to_act_next = pd.Series()\n",
      "/trumania/trumania/core/story.py:195: FutureWarning: The default dtype for empty Series will be 'object' instead of 'float64' in a future version. Specify a dtype explicitly to silence this warning.\n",
      "  self.forced_to_act_next = pd.Series()\n",
      "/trumania/trumania/core/story.py:195: FutureWarning: The default dtype for empty Series will be 'object' instead of 'float64' in a future version. Specify a dtype explicitly to silence this warning.\n",
      "  self.forced_to_act_next = pd.Series()\n",
      "/trumania/trumania/core/story.py:195: FutureWarning: The default dtype for empty Series will be 'object' instead of 'float64' in a future version. Specify a dtype explicitly to silence this warning.\n",
      "  self.forced_to_act_next = pd.Series()\n",
      "/trumania/trumania/core/story.py:195: FutureWarning: The default dtype for empty Series will be 'object' instead of 'float64' in a future version. Specify a dtype explicitly to silence this warning.\n",
      "  self.forced_to_act_next = pd.Series()\n",
      "/trumania/trumania/core/story.py:195: FutureWarning: The default dtype for empty Series will be 'object' instead of 'float64' in a future version. Specify a dtype explicitly to silence this warning.\n",
      "  self.forced_to_act_next = pd.Series()\n",
      "/trumania/trumania/core/story.py:195: FutureWarning: The default dtype for empty Series will be 'object' instead of 'float64' in a future version. Specify a dtype explicitly to silence this warning.\n",
      "  self.forced_to_act_next = pd.Series()\n",
      "/trumania/trumania/core/story.py:195: FutureWarning: The default dtype for empty Series will be 'object' instead of 'float64' in a future version. Specify a dtype explicitly to silence this warning.\n",
      "  self.forced_to_act_next = pd.Series()\n",
      "/trumania/trumania/core/story.py:195: FutureWarning: The default dtype for empty Series will be 'object' instead of 'float64' in a future version. Specify a dtype explicitly to silence this warning.\n",
      "  self.forced_to_act_next = pd.Series()\n",
      "/trumania/trumania/core/story.py:195: FutureWarning: The default dtype for empty Series will be 'object' instead of 'float64' in a future version. Specify a dtype explicitly to silence this warning.\n",
      "  self.forced_to_act_next = pd.Series()\n",
      "/trumania/trumania/core/story.py:195: FutureWarning: The default dtype for empty Series will be 'object' instead of 'float64' in a future version. Specify a dtype explicitly to silence this warning.\n",
      "  self.forced_to_act_next = pd.Series()\n",
      "/trumania/trumania/core/story.py:195: FutureWarning: The default dtype for empty Series will be 'object' instead of 'float64' in a future version. Specify a dtype explicitly to silence this warning.\n",
      "  self.forced_to_act_next = pd.Series()\n",
      "/trumania/trumania/core/story.py:195: FutureWarning: The default dtype for empty Series will be 'object' instead of 'float64' in a future version. Specify a dtype explicitly to silence this warning.\n",
      "  self.forced_to_act_next = pd.Series()\n",
      "/trumania/trumania/core/story.py:195: FutureWarning: The default dtype for empty Series will be 'object' instead of 'float64' in a future version. Specify a dtype explicitly to silence this warning.\n",
      "  self.forced_to_act_next = pd.Series()\n",
      "/trumania/trumania/core/story.py:195: FutureWarning: The default dtype for empty Series will be 'object' instead of 'float64' in a future version. Specify a dtype explicitly to silence this warning.\n",
      "  self.forced_to_act_next = pd.Series()\n",
      "/trumania/trumania/core/story.py:195: FutureWarning: The default dtype for empty Series will be 'object' instead of 'float64' in a future version. Specify a dtype explicitly to silence this warning.\n",
      "  self.forced_to_act_next = pd.Series()\n"
     ]
    }
   ],
   "source": [
    "# run the circus for 48h and save the output\n",
    "example_circus.run(\n",
    "    duration=pd.Timedelta(\"48h\"),\n",
    "    log_output_folder=\"../../data/datafiles/out/trumania\",\n",
    "    delete_existing_logs=True\n",
    ")\n",
    "\n",
    "# convert the entities to dataframes\n",
    "person_df = person.to_dataframe()\n",
    "business_df = business.to_dataframe()\n",
    "\n",
    "# save the entities\n",
    "person_df.to_csv(\"../../data/datafiles/out/trumania/user.csv\", index_label='user_id')\n",
    "business_df.to_csv(\"../../data/datafiles/out/trumania/business.csv\", index_label='business_id',quoting=csv.QUOTE_NONNUMERIC)"
   ]
  }
 ],
 "metadata": {
  "kernelspec": {
   "display_name": "Python 3",
   "language": "python",
   "name": "python3"
  },
  "language_info": {
   "codemirror_mode": {
    "name": "ipython",
    "version": 3
   },
   "file_extension": ".py",
   "mimetype": "text/x-python",
   "name": "python",
   "nbconvert_exporter": "python",
   "pygments_lexer": "ipython3",
   "version": "3.8.16"
  },
  "orig_nbformat": 4,
  "vscode": {
   "interpreter": {
    "hash": "949777d72b0d2535278d3dc13498b2535136f6dfe0678499012e853ee9abcab1"
   }
  }
 },
 "nbformat": 4,
 "nbformat_minor": 2
}
